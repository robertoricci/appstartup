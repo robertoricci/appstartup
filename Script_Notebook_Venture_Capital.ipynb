{
  "nbformat": 4,
  "nbformat_minor": 0,
  "metadata": {
    "colab": {
      "name": "Script_Notebook_Venture_Capital.ipynb",
      "provenance": [],
      "collapsed_sections": [
        "Sinz57egt19j",
        "Eny3aIZaku8i",
        "-O1cmFgSku8j",
        "uuZT34BTj8IQ",
        "-8LQxotDkDsX",
        "DM2nuyRTku81",
        "VD7HKkWmHICR",
        "TyrZDLaZku9L",
        "8prDFmADku9W",
        "5E84HnbFkFau",
        "5NX3ctmRkFa7",
        "VbxOyWWykFa7",
        "HuWbBmshkFa8",
        "41PSPziLkFa9",
        "Y3rduQxEku9Y",
        "cUQ5JbQk56wl"
      ]
    },
    "kernelspec": {
      "display_name": "Python 3",
      "language": "python",
      "name": "python3"
    },
    "language_info": {
      "codemirror_mode": {
        "name": "ipython",
        "version": 3
      },
      "file_extension": ".py",
      "mimetype": "text/x-python",
      "name": "python",
      "nbconvert_exporter": "python",
      "pygments_lexer": "ipython3",
      "version": "3.8.0"
    }
  },
  "cells": [
    {
      "cell_type": "markdown",
      "metadata": {
        "id": "WHSU8NShZedN"
      },
      "source": [
        "![alt text](https://cienciadosdados.com/images/Cpia_de_HEADER.png)"
      ]
    },
    {
      "cell_type": "markdown",
      "metadata": {
        "id": "7oiQVQi0AJ6D"
      },
      "source": [
        "\n",
        "\n",
        "# <font color='Blue'> Venture Capital - Avaliação de Investimentos em Startups </font>  \n",
        "\n",
        "![](https://i.pinimg.com/originals/69/9c/ee/699cee51b6059fe6a5d4ca2f0a89d97a.gif)\n",
        "\n",
        "\n"
      ]
    },
    {
      "cell_type": "markdown",
      "source": [
        "## **Contextualização**"
      ],
      "metadata": {
        "id": "Sinz57egt19j"
      }
    },
    {
      "cell_type": "markdown",
      "source": [
        "![](https://cienciadosdados.com/images/2022/03/o_que__VC.png)\n",
        "\n",
        "![](https://cienciadosdados.com/images/2022/03/VC_X_PE.png)"
      ],
      "metadata": {
        "id": "HxP2wSRchrcQ"
      }
    },
    {
      "cell_type": "markdown",
      "source": [
        "![](https://cienciadosdados.com/images/2022/03/valor-investido-stp.png)"
      ],
      "metadata": {
        "id": "zuJJiF2tqU1i"
      }
    },
    {
      "cell_type": "markdown",
      "source": [
        "![](https://cienciadosdados.com/images/2022/03/soft-stp.png)"
      ],
      "metadata": {
        "id": "rhUFzSk9rhpW"
      }
    },
    {
      "cell_type": "markdown",
      "source": [
        "![](https://cienciadosdados.com/images/2022/03/softbank.png)"
      ],
      "metadata": {
        "id": "oc3bu6HXsh8U"
      }
    },
    {
      "cell_type": "markdown",
      "metadata": {
        "id": "7K8qMC313GIW"
      },
      "source": [
        "SoftBank Group Corp. é uma corporação multinacional japonesa de telecomunicações e Internet, estabelecida em 3 de setembro de 1981 e com sede em Tóquio. Tem operações em banda larga, telecomunicações de linha fixa, comércio eletrônico, serviços de tecnologia, finanças, mídia e marketing, design de semicondutores e outras empresas.[1] A empresa é chefiada pelo fundador Masayoshi Son.\n",
        "\n",
        "A SoftBank foi classificado na lista Forbes Global 2000 como a 62ª maior empresa de capital aberto do mundo[2] e a terceira maior no Japão, após Toyota e Mitsubishi UFJ Financial.[3] Entre 2009 e 2014, a capitalização de mercado da SoftBank aumentou 557%, o quarto maior aumento relativo no mundo durante esse período.[4]"
      ]
    },
    {
      "cell_type": "markdown",
      "source": [
        "![](https://cienciadosdados.com/images/2022/03/distrito.png)"
      ],
      "metadata": {
        "id": "cVF-Z_8Atjq2"
      }
    },
    {
      "cell_type": "markdown",
      "metadata": {
        "id": "28A1XXO92Lo2"
      },
      "source": [
        "# <font color='grey'> **Aula 1 - Resolvendo Problemas de Negócio com Ciência de Dados e Automação** </font>"
      ]
    },
    {
      "cell_type": "markdown",
      "metadata": {
        "id": "Eny3aIZaku8i"
      },
      "source": [
        "#1° Problema de Negócio \n",
        "![](https://i.pinimg.com/originals/78/63/36/7863362124aee1020dd1784a9f95a4ae.gif)\n"
      ]
    },
    {
      "cell_type": "markdown",
      "source": [
        "Você foi contratado como Cientista de Dados pelo SoftBank para desenvolver uma aplicação de Ciência de Dados, cujo objetivo é desenvolver uma metodologia com Machine Learning, para embasar, recomendar o investimento em Startups, de forma automatizada, para serem investidas pelo Venture Capital da Instituição. "
      ],
      "metadata": {
        "id": "z4qBfg7duWYH"
      }
    },
    {
      "cell_type": "markdown",
      "source": [
        "A aplicação tem que ser simples mas com usabilidade bem prática e em ambiente Web. Isso porque os dados das Startups estarão ao alcance dos executivos do Softbank para que sejam realizadas simulações para decidir se deve ou não investir nas Startups."
      ],
      "metadata": {
        "id": "BIbK42q8uyV0"
      }
    },
    {
      "cell_type": "markdown",
      "metadata": {
        "id": "Fsv_E3STqmTg"
      },
      "source": [
        "##### **Fonte dos Dados**"
      ]
    },
    {
      "cell_type": "markdown",
      "metadata": {
        "id": "GFLspIFTEeJN"
      },
      "source": [
        "Usaremos a base de dados \"**venture_capital**\" com a Série Histórica dos Dados de 150 Startups Investidas pelo SoftBank.\n"
      ]
    },
    {
      "cell_type": "markdown",
      "metadata": {
        "id": "C4PaRjZAqwmx"
      },
      "source": [
        "###### **Dicionário dos Dados** \n",
        "\n",
        "* **startup**  : Número de identificação da startup\n",
        "* **Indice_Falencia_Setorial**        : Índice Falências Setorial\n",
        "* **Indice_Faturamento**: Índice faturamento Projetado para a empresa\n",
        "* **Indice_Investimento** : Indice de Investimento Necessário para a Startup se tornar Operacional\n",
        "* **Indice_Expertise_Estrategica**   : Índice referente aos dados de Perfis dos Técnicos da Startup\n",
        "* **Avaliação**       : Resultado da Metodologia tendo como output uma graduação de Riscos (Alto Médio Baixo)"
      ]
    },
    {
      "cell_type": "markdown",
      "metadata": {
        "id": "-O1cmFgSku8j"
      },
      "source": [
        "# 2° Análise Exploratória dos Dados\n",
        "![](https://thumbs.gfycat.com/FavorableDarkDrafthorse-size_restricted.gif)\n",
        "![](https://cdn.dribbble.com/users/720825/screenshots/3253310/slim-jim-_dribbble_-_800x600_.gif)\n"
      ]
    },
    {
      "cell_type": "markdown",
      "source": [
        "### Importação de Pacotes/Bibliotecas para o Trabalho"
      ],
      "metadata": {
        "id": "GSWM9nZ0jxVX"
      }
    },
    {
      "cell_type": "code",
      "metadata": {
        "id": "6BZ-jLOunczC"
      },
      "source": [
        "# Importando Bibliotecas Essenciais\n",
        "import pandas as pd                                       # Pacote de Manipulação de Dados\n",
        "import numpy as np                                        # Pacote para cálculos matemáticos\n",
        "import matplotlib.pyplot as plt                           # Biblioteca de Gráficos\n",
        "import seaborn as sns                                     # Pacote de Gráficos\n",
        "from sklearn.preprocessing import StandardScaler          # Função de Escalonamento dos Dados \n",
        "from sklearn.model_selection import train_test_split      # Função de Amostragem de Dados\n",
        "from sklearn.neighbors import KNeighborsClassifier        # Algoritmo de Machine Learning\n",
        "from sklearn.svm import SVC                               # Algoritmo de Machine Learning\n",
        "from sklearn import metrics                               # Função de Avaliação de resultados\n",
        "%matplotlib inline                                        "
      ],
      "execution_count": null,
      "outputs": []
    },
    {
      "cell_type": "markdown",
      "source": [
        "### Conexão/Importação dos Dados"
      ],
      "metadata": {
        "id": "uuZT34BTj8IQ"
      }
    },
    {
      "cell_type": "code",
      "metadata": {
        "id": "WKtERLr9n09B"
      },
      "source": [
        "# Se conectando com os dados - Nesse caso, a Fonte de Dados é um Arquivo\n",
        "dataset = pd.read_csv('/content/venture_capital.csv' , delimiter=',')"
      ],
      "execution_count": null,
      "outputs": []
    },
    {
      "cell_type": "code",
      "metadata": {
        "id": "lB0QoX8n3BEs"
      },
      "source": [
        "# Imprime na Tela os primeiros registros\n",
        "dataset.head()"
      ],
      "execution_count": null,
      "outputs": []
    },
    {
      "cell_type": "markdown",
      "source": [
        "### Instalação de Pacote de Automação de Relatórios de Dados"
      ],
      "metadata": {
        "id": "-8LQxotDkDsX"
      }
    },
    {
      "cell_type": "code",
      "metadata": {
        "id": "SYH_vHz8kSwW"
      },
      "source": [
        "#Instalação do Pacote\n",
        "!pip install dataprep"
      ],
      "execution_count": null,
      "outputs": []
    },
    {
      "cell_type": "code",
      "metadata": {
        "id": "FJZOc0aXqybr"
      },
      "source": [
        "# Relatório Automatizado\n",
        "from dataprep.eda import create_report\n",
        "create_report(dataset)"
      ],
      "execution_count": null,
      "outputs": []
    },
    {
      "cell_type": "code",
      "metadata": {
        "id": "lfcQBXx2zDNj"
      },
      "source": [
        "# Forma adicional de criar a Tab. de Frequência\n",
        "dataset.Avaliacao.value_counts()"
      ],
      "execution_count": null,
      "outputs": []
    },
    {
      "cell_type": "code",
      "metadata": {
        "id": "p_dvoe928qrU"
      },
      "source": [
        "# Criação do Gráfico de dispersão (scatter) conhecido como pairplot\n",
        "sns.pairplot(dataset, hue='Avaliacao', kind=\"reg\") # kind=reg é a reta de regressão"
      ],
      "execution_count": null,
      "outputs": []
    },
    {
      "cell_type": "markdown",
      "metadata": {
        "id": "DM2nuyRTku81"
      },
      "source": [
        "# 3° Pré-Processamento dos Dados\n",
        "![](https://greymatter.com/wp-content/uploads/2021/12/ezgif.com-optimize.gif)\n"
      ]
    },
    {
      "cell_type": "markdown",
      "source": [
        "### Eliminando Variáveis que não são explicativas"
      ],
      "metadata": {
        "id": "xpU7MQ_4HAkt"
      }
    },
    {
      "cell_type": "code",
      "metadata": {
        "id": "uduJWrPw-0YB"
      },
      "source": [
        "#Eliminar a coluna de identificação, pois ela não é variável explicativa, é somente a identificação do cliente\n",
        "dataset = dataset.drop(columns='Startup')"
      ],
      "execution_count": null,
      "outputs": []
    },
    {
      "cell_type": "markdown",
      "source": [
        "### Separando as Variáveis Explicativas e o Target"
      ],
      "metadata": {
        "id": "VD7HKkWmHICR"
      }
    },
    {
      "cell_type": "code",
      "metadata": {
        "id": "G5WuUWRFn4j8"
      },
      "source": [
        "# Separando as Variáveis de Entrada e Saída do Modelo\n",
        "X = dataset.iloc[:,:-1].values  #variáveis independentes\n",
        "y = dataset.iloc[:,-1].values  #Target/labe/class/vairável dependente"
      ],
      "execution_count": null,
      "outputs": []
    },
    {
      "cell_type": "code",
      "metadata": {
        "id": "TnFgcVnO4R4A"
      },
      "source": [
        "# Printar na tela os valores de X\n",
        "X"
      ],
      "execution_count": null,
      "outputs": []
    },
    {
      "cell_type": "code",
      "metadata": {
        "id": "ALfXSeZ1KJ4b"
      },
      "source": [
        "# Printar na tela os valores de Y\n",
        "y"
      ],
      "execution_count": null,
      "outputs": []
    },
    {
      "cell_type": "markdown",
      "metadata": {
        "id": "TyrZDLaZku9L"
      },
      "source": [
        "### Amostragem dos Dados - Separando os dados entre Treino e Teste"
      ]
    },
    {
      "cell_type": "code",
      "metadata": {
        "id": "Q95yEPVNku9O"
      },
      "source": [
        "#Divide o dataset em Train and Test \n",
        "X_train, X_test, y_train, y_test = train_test_split(X ,y, test_size=0.2, random_state = 7) "
      ],
      "execution_count": null,
      "outputs": []
    },
    {
      "cell_type": "markdown",
      "metadata": {
        "id": "8prDFmADku9W"
      },
      "source": [
        "### Padronizando as Features - As variáveis explicativas (variáveis de entrada)\n"
      ]
    },
    {
      "cell_type": "code",
      "metadata": {
        "id": "HVa6cZd8ku9W"
      },
      "source": [
        "# Função de Padronização para deixar os Dados na mesma Escala\n",
        "from sklearn.preprocessing import StandardScaler\n",
        "sc = StandardScaler()"
      ],
      "execution_count": null,
      "outputs": []
    },
    {
      "cell_type": "code",
      "source": [
        "#Aplica a função de padronização\n",
        "X_train = sc.fit_transform(X_train)\n",
        "X_test = sc.transform(X_test) "
      ],
      "metadata": {
        "id": "TdzliPpSGkqr"
      },
      "execution_count": null,
      "outputs": []
    },
    {
      "cell_type": "markdown",
      "metadata": {
        "id": "XcDuCbTG2PSi"
      },
      "source": [
        "# <font color='grey'> **Aula 2 - Construíndo Máquinas Preditivas com Machine Learning** </font>"
      ]
    },
    {
      "cell_type": "markdown",
      "metadata": {
        "id": "5E84HnbFkFau"
      },
      "source": [
        "# 3° Pré-Processamento dos Dados\n",
        "![](https://greymatter.com/wp-content/uploads/2021/12/ezgif.com-optimize.gif)\n"
      ]
    },
    {
      "cell_type": "markdown",
      "source": [
        "### Eliminando Variáveis que não são explicativas"
      ],
      "metadata": {
        "id": "5NX3ctmRkFa7"
      }
    },
    {
      "cell_type": "code",
      "source": [
        "dataset"
      ],
      "metadata": {
        "id": "WuM84eaOrkS2"
      },
      "execution_count": null,
      "outputs": []
    },
    {
      "cell_type": "code",
      "metadata": {
        "id": "BirV20O1kFa7"
      },
      "source": [
        "#Eliminar a coluna de identificação, pois ela não é variável explicativa, é somente a identificação do cliente\n",
        "dataset = dataset.drop(columns='Startup')"
      ],
      "execution_count": null,
      "outputs": []
    },
    {
      "cell_type": "code",
      "source": [
        "dataset"
      ],
      "metadata": {
        "colab": {
          "base_uri": "https://localhost:8080/",
          "height": 423
        },
        "id": "W7pWuRL5r3UR",
        "outputId": "f003ab6d-d83a-4967-aabd-66c6696a3579"
      },
      "execution_count": null,
      "outputs": [
        {
          "output_type": "execute_result",
          "data": {
            "text/plain": [
              "     Indice_Faturamento  Indice_Setorial  Indice_Inovacao  Indice_Falencias  \\\n",
              "0                   5.1              3.5              1.4               0.2   \n",
              "1                   4.9              3.0              1.4               0.2   \n",
              "2                   4.7              3.2              1.3               0.2   \n",
              "3                   4.6              3.1              1.5               0.2   \n",
              "4                   5.0              3.6              1.4               0.2   \n",
              "..                  ...              ...              ...               ...   \n",
              "145                 6.7              3.0              5.2               2.3   \n",
              "146                 6.3              2.5              5.0               1.9   \n",
              "147                 6.5              3.0              5.2               2.0   \n",
              "148                 6.2              3.4              5.4               2.3   \n",
              "149                 5.9              3.0              5.1               1.8   \n",
              "\n",
              "     Indice_Expertise_Estrategica    Avaliacao  \n",
              "0                             0.6   Risco_Alto  \n",
              "1                             0.6   Risco_Alto  \n",
              "2                             0.5   Risco_Alto  \n",
              "3                             0.3   Risco_Alto  \n",
              "4                             1.0   Risco_Alto  \n",
              "..                            ...          ...  \n",
              "145                           0.6  Risco_Baixo  \n",
              "146                           0.0  Risco_Baixo  \n",
              "147                           0.5  Risco_Baixo  \n",
              "148                           0.3  Risco_Baixo  \n",
              "149                           1.0  Risco_Baixo  \n",
              "\n",
              "[150 rows x 6 columns]"
            ],
            "text/html": [
              "\n",
              "  <div id=\"df-6aa7c095-730f-413f-8ed8-9b93b7a1c05b\">\n",
              "    <div class=\"colab-df-container\">\n",
              "      <div>\n",
              "<style scoped>\n",
              "    .dataframe tbody tr th:only-of-type {\n",
              "        vertical-align: middle;\n",
              "    }\n",
              "\n",
              "    .dataframe tbody tr th {\n",
              "        vertical-align: top;\n",
              "    }\n",
              "\n",
              "    .dataframe thead th {\n",
              "        text-align: right;\n",
              "    }\n",
              "</style>\n",
              "<table border=\"1\" class=\"dataframe\">\n",
              "  <thead>\n",
              "    <tr style=\"text-align: right;\">\n",
              "      <th></th>\n",
              "      <th>Indice_Faturamento</th>\n",
              "      <th>Indice_Setorial</th>\n",
              "      <th>Indice_Inovacao</th>\n",
              "      <th>Indice_Falencias</th>\n",
              "      <th>Indice_Expertise_Estrategica</th>\n",
              "      <th>Avaliacao</th>\n",
              "    </tr>\n",
              "  </thead>\n",
              "  <tbody>\n",
              "    <tr>\n",
              "      <th>0</th>\n",
              "      <td>5.1</td>\n",
              "      <td>3.5</td>\n",
              "      <td>1.4</td>\n",
              "      <td>0.2</td>\n",
              "      <td>0.6</td>\n",
              "      <td>Risco_Alto</td>\n",
              "    </tr>\n",
              "    <tr>\n",
              "      <th>1</th>\n",
              "      <td>4.9</td>\n",
              "      <td>3.0</td>\n",
              "      <td>1.4</td>\n",
              "      <td>0.2</td>\n",
              "      <td>0.6</td>\n",
              "      <td>Risco_Alto</td>\n",
              "    </tr>\n",
              "    <tr>\n",
              "      <th>2</th>\n",
              "      <td>4.7</td>\n",
              "      <td>3.2</td>\n",
              "      <td>1.3</td>\n",
              "      <td>0.2</td>\n",
              "      <td>0.5</td>\n",
              "      <td>Risco_Alto</td>\n",
              "    </tr>\n",
              "    <tr>\n",
              "      <th>3</th>\n",
              "      <td>4.6</td>\n",
              "      <td>3.1</td>\n",
              "      <td>1.5</td>\n",
              "      <td>0.2</td>\n",
              "      <td>0.3</td>\n",
              "      <td>Risco_Alto</td>\n",
              "    </tr>\n",
              "    <tr>\n",
              "      <th>4</th>\n",
              "      <td>5.0</td>\n",
              "      <td>3.6</td>\n",
              "      <td>1.4</td>\n",
              "      <td>0.2</td>\n",
              "      <td>1.0</td>\n",
              "      <td>Risco_Alto</td>\n",
              "    </tr>\n",
              "    <tr>\n",
              "      <th>...</th>\n",
              "      <td>...</td>\n",
              "      <td>...</td>\n",
              "      <td>...</td>\n",
              "      <td>...</td>\n",
              "      <td>...</td>\n",
              "      <td>...</td>\n",
              "    </tr>\n",
              "    <tr>\n",
              "      <th>145</th>\n",
              "      <td>6.7</td>\n",
              "      <td>3.0</td>\n",
              "      <td>5.2</td>\n",
              "      <td>2.3</td>\n",
              "      <td>0.6</td>\n",
              "      <td>Risco_Baixo</td>\n",
              "    </tr>\n",
              "    <tr>\n",
              "      <th>146</th>\n",
              "      <td>6.3</td>\n",
              "      <td>2.5</td>\n",
              "      <td>5.0</td>\n",
              "      <td>1.9</td>\n",
              "      <td>0.0</td>\n",
              "      <td>Risco_Baixo</td>\n",
              "    </tr>\n",
              "    <tr>\n",
              "      <th>147</th>\n",
              "      <td>6.5</td>\n",
              "      <td>3.0</td>\n",
              "      <td>5.2</td>\n",
              "      <td>2.0</td>\n",
              "      <td>0.5</td>\n",
              "      <td>Risco_Baixo</td>\n",
              "    </tr>\n",
              "    <tr>\n",
              "      <th>148</th>\n",
              "      <td>6.2</td>\n",
              "      <td>3.4</td>\n",
              "      <td>5.4</td>\n",
              "      <td>2.3</td>\n",
              "      <td>0.3</td>\n",
              "      <td>Risco_Baixo</td>\n",
              "    </tr>\n",
              "    <tr>\n",
              "      <th>149</th>\n",
              "      <td>5.9</td>\n",
              "      <td>3.0</td>\n",
              "      <td>5.1</td>\n",
              "      <td>1.8</td>\n",
              "      <td>1.0</td>\n",
              "      <td>Risco_Baixo</td>\n",
              "    </tr>\n",
              "  </tbody>\n",
              "</table>\n",
              "<p>150 rows × 6 columns</p>\n",
              "</div>\n",
              "      <button class=\"colab-df-convert\" onclick=\"convertToInteractive('df-6aa7c095-730f-413f-8ed8-9b93b7a1c05b')\"\n",
              "              title=\"Convert this dataframe to an interactive table.\"\n",
              "              style=\"display:none;\">\n",
              "        \n",
              "  <svg xmlns=\"http://www.w3.org/2000/svg\" height=\"24px\"viewBox=\"0 0 24 24\"\n",
              "       width=\"24px\">\n",
              "    <path d=\"M0 0h24v24H0V0z\" fill=\"none\"/>\n",
              "    <path d=\"M18.56 5.44l.94 2.06.94-2.06 2.06-.94-2.06-.94-.94-2.06-.94 2.06-2.06.94zm-11 1L8.5 8.5l.94-2.06 2.06-.94-2.06-.94L8.5 2.5l-.94 2.06-2.06.94zm10 10l.94 2.06.94-2.06 2.06-.94-2.06-.94-.94-2.06-.94 2.06-2.06.94z\"/><path d=\"M17.41 7.96l-1.37-1.37c-.4-.4-.92-.59-1.43-.59-.52 0-1.04.2-1.43.59L10.3 9.45l-7.72 7.72c-.78.78-.78 2.05 0 2.83L4 21.41c.39.39.9.59 1.41.59.51 0 1.02-.2 1.41-.59l7.78-7.78 2.81-2.81c.8-.78.8-2.07 0-2.86zM5.41 20L4 18.59l7.72-7.72 1.47 1.35L5.41 20z\"/>\n",
              "  </svg>\n",
              "      </button>\n",
              "      \n",
              "  <style>\n",
              "    .colab-df-container {\n",
              "      display:flex;\n",
              "      flex-wrap:wrap;\n",
              "      gap: 12px;\n",
              "    }\n",
              "\n",
              "    .colab-df-convert {\n",
              "      background-color: #E8F0FE;\n",
              "      border: none;\n",
              "      border-radius: 50%;\n",
              "      cursor: pointer;\n",
              "      display: none;\n",
              "      fill: #1967D2;\n",
              "      height: 32px;\n",
              "      padding: 0 0 0 0;\n",
              "      width: 32px;\n",
              "    }\n",
              "\n",
              "    .colab-df-convert:hover {\n",
              "      background-color: #E2EBFA;\n",
              "      box-shadow: 0px 1px 2px rgba(60, 64, 67, 0.3), 0px 1px 3px 1px rgba(60, 64, 67, 0.15);\n",
              "      fill: #174EA6;\n",
              "    }\n",
              "\n",
              "    [theme=dark] .colab-df-convert {\n",
              "      background-color: #3B4455;\n",
              "      fill: #D2E3FC;\n",
              "    }\n",
              "\n",
              "    [theme=dark] .colab-df-convert:hover {\n",
              "      background-color: #434B5C;\n",
              "      box-shadow: 0px 1px 3px 1px rgba(0, 0, 0, 0.15);\n",
              "      filter: drop-shadow(0px 1px 2px rgba(0, 0, 0, 0.3));\n",
              "      fill: #FFFFFF;\n",
              "    }\n",
              "  </style>\n",
              "\n",
              "      <script>\n",
              "        const buttonEl =\n",
              "          document.querySelector('#df-6aa7c095-730f-413f-8ed8-9b93b7a1c05b button.colab-df-convert');\n",
              "        buttonEl.style.display =\n",
              "          google.colab.kernel.accessAllowed ? 'block' : 'none';\n",
              "\n",
              "        async function convertToInteractive(key) {\n",
              "          const element = document.querySelector('#df-6aa7c095-730f-413f-8ed8-9b93b7a1c05b');\n",
              "          const dataTable =\n",
              "            await google.colab.kernel.invokeFunction('convertToInteractive',\n",
              "                                                     [key], {});\n",
              "          if (!dataTable) return;\n",
              "\n",
              "          const docLinkHtml = 'Like what you see? Visit the ' +\n",
              "            '<a target=\"_blank\" href=https://colab.research.google.com/notebooks/data_table.ipynb>data table notebook</a>'\n",
              "            + ' to learn more about interactive tables.';\n",
              "          element.innerHTML = '';\n",
              "          dataTable['output_type'] = 'display_data';\n",
              "          await google.colab.output.renderOutput(dataTable, element);\n",
              "          const docLink = document.createElement('div');\n",
              "          docLink.innerHTML = docLinkHtml;\n",
              "          element.appendChild(docLink);\n",
              "        }\n",
              "      </script>\n",
              "    </div>\n",
              "  </div>\n",
              "  "
            ]
          },
          "metadata": {},
          "execution_count": 6
        }
      ]
    },
    {
      "cell_type": "markdown",
      "source": [
        "### Separando as Variáveis Explicativas e o Target"
      ],
      "metadata": {
        "id": "VbxOyWWykFa7"
      }
    },
    {
      "cell_type": "code",
      "metadata": {
        "id": "Ec-4Dn4DkFa8"
      },
      "source": [
        "# Separando as Variáveis de Entrada e Saída do Modelo\n",
        "X = dataset.iloc[:,:-1].values  #variáveis independentes\n",
        "y = dataset.iloc[:,-1].values  #Target/labe/class/vairável dependente"
      ],
      "execution_count": null,
      "outputs": []
    },
    {
      "cell_type": "code",
      "metadata": {
        "id": "4e-tjWcDkFa8"
      },
      "source": [
        "# Printar na tela os valores de X\n",
        "X"
      ],
      "execution_count": null,
      "outputs": []
    },
    {
      "cell_type": "code",
      "metadata": {
        "id": "xuAwFJ7skFa8"
      },
      "source": [
        "# Printar na tela os valores de Y\n",
        "y"
      ],
      "execution_count": null,
      "outputs": []
    },
    {
      "cell_type": "markdown",
      "metadata": {
        "id": "HuWbBmshkFa8"
      },
      "source": [
        "### Amostragem dos Dados - Separando os dados entre Treino e Teste"
      ]
    },
    {
      "cell_type": "code",
      "metadata": {
        "id": "zLyIvG9GkFa8"
      },
      "source": [
        "#Divide o dataset em Train and Test \n",
        "X_train, X_test, y_train, y_test = train_test_split(X ,y, test_size=0.2, random_state = 7) "
      ],
      "execution_count": null,
      "outputs": []
    },
    {
      "cell_type": "code",
      "source": [
        "X_train"
      ],
      "metadata": {
        "id": "Ke-R7oBguaSJ"
      },
      "execution_count": null,
      "outputs": []
    },
    {
      "cell_type": "code",
      "source": [
        "X_test"
      ],
      "metadata": {
        "id": "S-58YPmnuaqg"
      },
      "execution_count": null,
      "outputs": []
    },
    {
      "cell_type": "code",
      "source": [
        "y_train"
      ],
      "metadata": {
        "id": "ohJqbFxuubCd"
      },
      "execution_count": null,
      "outputs": []
    },
    {
      "cell_type": "code",
      "source": [
        "y_test"
      ],
      "metadata": {
        "id": "KBCQVGOyubM9"
      },
      "execution_count": null,
      "outputs": []
    },
    {
      "cell_type": "markdown",
      "metadata": {
        "id": "41PSPziLkFa9"
      },
      "source": [
        "### Padronizando as Features - As variáveis explicativas (variáveis de entrada)\n"
      ]
    },
    {
      "cell_type": "code",
      "source": [
        "dataset.describe()"
      ],
      "metadata": {
        "colab": {
          "base_uri": "https://localhost:8080/",
          "height": 300
        },
        "id": "B_yFamyFv0jT",
        "outputId": "c7a6f450-9239-40a8-ea3e-5b71474c1db4"
      },
      "execution_count": null,
      "outputs": [
        {
          "output_type": "execute_result",
          "data": {
            "text/plain": [
              "       Indice_Faturamento  Indice_Setorial  Indice_Inovacao  Indice_Falencias  \\\n",
              "count          150.000000       150.000000       150.000000        150.000000   \n",
              "mean             5.843333         3.054000         3.758667          1.198667   \n",
              "std              0.828066         0.433594         1.764420          0.763161   \n",
              "min              4.300000         2.000000         1.000000          0.100000   \n",
              "25%              5.100000         2.800000         1.600000          0.300000   \n",
              "50%              5.800000         3.000000         4.350000          1.300000   \n",
              "75%              6.400000         3.300000         5.100000          1.800000   \n",
              "max              7.900000         4.400000         6.900000          2.500000   \n",
              "\n",
              "       Indice_Expertise_Estrategica  \n",
              "count                    150.000000  \n",
              "mean                       0.507333  \n",
              "std                        0.291972  \n",
              "min                        0.000000  \n",
              "25%                        0.300000  \n",
              "50%                        0.500000  \n",
              "75%                        0.800000  \n",
              "max                        1.000000  "
            ],
            "text/html": [
              "\n",
              "  <div id=\"df-c7509622-ddd1-413f-a935-e8f898bb06ec\">\n",
              "    <div class=\"colab-df-container\">\n",
              "      <div>\n",
              "<style scoped>\n",
              "    .dataframe tbody tr th:only-of-type {\n",
              "        vertical-align: middle;\n",
              "    }\n",
              "\n",
              "    .dataframe tbody tr th {\n",
              "        vertical-align: top;\n",
              "    }\n",
              "\n",
              "    .dataframe thead th {\n",
              "        text-align: right;\n",
              "    }\n",
              "</style>\n",
              "<table border=\"1\" class=\"dataframe\">\n",
              "  <thead>\n",
              "    <tr style=\"text-align: right;\">\n",
              "      <th></th>\n",
              "      <th>Indice_Faturamento</th>\n",
              "      <th>Indice_Setorial</th>\n",
              "      <th>Indice_Inovacao</th>\n",
              "      <th>Indice_Falencias</th>\n",
              "      <th>Indice_Expertise_Estrategica</th>\n",
              "    </tr>\n",
              "  </thead>\n",
              "  <tbody>\n",
              "    <tr>\n",
              "      <th>count</th>\n",
              "      <td>150.000000</td>\n",
              "      <td>150.000000</td>\n",
              "      <td>150.000000</td>\n",
              "      <td>150.000000</td>\n",
              "      <td>150.000000</td>\n",
              "    </tr>\n",
              "    <tr>\n",
              "      <th>mean</th>\n",
              "      <td>5.843333</td>\n",
              "      <td>3.054000</td>\n",
              "      <td>3.758667</td>\n",
              "      <td>1.198667</td>\n",
              "      <td>0.507333</td>\n",
              "    </tr>\n",
              "    <tr>\n",
              "      <th>std</th>\n",
              "      <td>0.828066</td>\n",
              "      <td>0.433594</td>\n",
              "      <td>1.764420</td>\n",
              "      <td>0.763161</td>\n",
              "      <td>0.291972</td>\n",
              "    </tr>\n",
              "    <tr>\n",
              "      <th>min</th>\n",
              "      <td>4.300000</td>\n",
              "      <td>2.000000</td>\n",
              "      <td>1.000000</td>\n",
              "      <td>0.100000</td>\n",
              "      <td>0.000000</td>\n",
              "    </tr>\n",
              "    <tr>\n",
              "      <th>25%</th>\n",
              "      <td>5.100000</td>\n",
              "      <td>2.800000</td>\n",
              "      <td>1.600000</td>\n",
              "      <td>0.300000</td>\n",
              "      <td>0.300000</td>\n",
              "    </tr>\n",
              "    <tr>\n",
              "      <th>50%</th>\n",
              "      <td>5.800000</td>\n",
              "      <td>3.000000</td>\n",
              "      <td>4.350000</td>\n",
              "      <td>1.300000</td>\n",
              "      <td>0.500000</td>\n",
              "    </tr>\n",
              "    <tr>\n",
              "      <th>75%</th>\n",
              "      <td>6.400000</td>\n",
              "      <td>3.300000</td>\n",
              "      <td>5.100000</td>\n",
              "      <td>1.800000</td>\n",
              "      <td>0.800000</td>\n",
              "    </tr>\n",
              "    <tr>\n",
              "      <th>max</th>\n",
              "      <td>7.900000</td>\n",
              "      <td>4.400000</td>\n",
              "      <td>6.900000</td>\n",
              "      <td>2.500000</td>\n",
              "      <td>1.000000</td>\n",
              "    </tr>\n",
              "  </tbody>\n",
              "</table>\n",
              "</div>\n",
              "      <button class=\"colab-df-convert\" onclick=\"convertToInteractive('df-c7509622-ddd1-413f-a935-e8f898bb06ec')\"\n",
              "              title=\"Convert this dataframe to an interactive table.\"\n",
              "              style=\"display:none;\">\n",
              "        \n",
              "  <svg xmlns=\"http://www.w3.org/2000/svg\" height=\"24px\"viewBox=\"0 0 24 24\"\n",
              "       width=\"24px\">\n",
              "    <path d=\"M0 0h24v24H0V0z\" fill=\"none\"/>\n",
              "    <path d=\"M18.56 5.44l.94 2.06.94-2.06 2.06-.94-2.06-.94-.94-2.06-.94 2.06-2.06.94zm-11 1L8.5 8.5l.94-2.06 2.06-.94-2.06-.94L8.5 2.5l-.94 2.06-2.06.94zm10 10l.94 2.06.94-2.06 2.06-.94-2.06-.94-.94-2.06-.94 2.06-2.06.94z\"/><path d=\"M17.41 7.96l-1.37-1.37c-.4-.4-.92-.59-1.43-.59-.52 0-1.04.2-1.43.59L10.3 9.45l-7.72 7.72c-.78.78-.78 2.05 0 2.83L4 21.41c.39.39.9.59 1.41.59.51 0 1.02-.2 1.41-.59l7.78-7.78 2.81-2.81c.8-.78.8-2.07 0-2.86zM5.41 20L4 18.59l7.72-7.72 1.47 1.35L5.41 20z\"/>\n",
              "  </svg>\n",
              "      </button>\n",
              "      \n",
              "  <style>\n",
              "    .colab-df-container {\n",
              "      display:flex;\n",
              "      flex-wrap:wrap;\n",
              "      gap: 12px;\n",
              "    }\n",
              "\n",
              "    .colab-df-convert {\n",
              "      background-color: #E8F0FE;\n",
              "      border: none;\n",
              "      border-radius: 50%;\n",
              "      cursor: pointer;\n",
              "      display: none;\n",
              "      fill: #1967D2;\n",
              "      height: 32px;\n",
              "      padding: 0 0 0 0;\n",
              "      width: 32px;\n",
              "    }\n",
              "\n",
              "    .colab-df-convert:hover {\n",
              "      background-color: #E2EBFA;\n",
              "      box-shadow: 0px 1px 2px rgba(60, 64, 67, 0.3), 0px 1px 3px 1px rgba(60, 64, 67, 0.15);\n",
              "      fill: #174EA6;\n",
              "    }\n",
              "\n",
              "    [theme=dark] .colab-df-convert {\n",
              "      background-color: #3B4455;\n",
              "      fill: #D2E3FC;\n",
              "    }\n",
              "\n",
              "    [theme=dark] .colab-df-convert:hover {\n",
              "      background-color: #434B5C;\n",
              "      box-shadow: 0px 1px 3px 1px rgba(0, 0, 0, 0.15);\n",
              "      filter: drop-shadow(0px 1px 2px rgba(0, 0, 0, 0.3));\n",
              "      fill: #FFFFFF;\n",
              "    }\n",
              "  </style>\n",
              "\n",
              "      <script>\n",
              "        const buttonEl =\n",
              "          document.querySelector('#df-c7509622-ddd1-413f-a935-e8f898bb06ec button.colab-df-convert');\n",
              "        buttonEl.style.display =\n",
              "          google.colab.kernel.accessAllowed ? 'block' : 'none';\n",
              "\n",
              "        async function convertToInteractive(key) {\n",
              "          const element = document.querySelector('#df-c7509622-ddd1-413f-a935-e8f898bb06ec');\n",
              "          const dataTable =\n",
              "            await google.colab.kernel.invokeFunction('convertToInteractive',\n",
              "                                                     [key], {});\n",
              "          if (!dataTable) return;\n",
              "\n",
              "          const docLinkHtml = 'Like what you see? Visit the ' +\n",
              "            '<a target=\"_blank\" href=https://colab.research.google.com/notebooks/data_table.ipynb>data table notebook</a>'\n",
              "            + ' to learn more about interactive tables.';\n",
              "          element.innerHTML = '';\n",
              "          dataTable['output_type'] = 'display_data';\n",
              "          await google.colab.output.renderOutput(dataTable, element);\n",
              "          const docLink = document.createElement('div');\n",
              "          docLink.innerHTML = docLinkHtml;\n",
              "          element.appendChild(docLink);\n",
              "        }\n",
              "      </script>\n",
              "    </div>\n",
              "  </div>\n",
              "  "
            ]
          },
          "metadata": {},
          "execution_count": 15
        }
      ]
    },
    {
      "cell_type": "code",
      "metadata": {
        "id": "7uIeiHCpkFa9"
      },
      "source": [
        "# Função de Padronização para deixar os Dados na mesma Escala\n",
        "from sklearn.preprocessing import StandardScaler\n",
        "sc = StandardScaler()"
      ],
      "execution_count": null,
      "outputs": []
    },
    {
      "cell_type": "code",
      "source": [
        "# Aplica a função de padronização\n",
        "X_train = sc.fit_transform(X_train)\n",
        "X_test = sc.transform(X_test) "
      ],
      "metadata": {
        "id": "firGtpqikFa9"
      },
      "execution_count": null,
      "outputs": []
    },
    {
      "cell_type": "code",
      "source": [
        "X_train"
      ],
      "metadata": {
        "id": "mXteyrLhw6lA"
      },
      "execution_count": null,
      "outputs": []
    },
    {
      "cell_type": "code",
      "source": [
        "X_test"
      ],
      "metadata": {
        "id": "KTxj6qP4w6x0"
      },
      "execution_count": null,
      "outputs": []
    },
    {
      "cell_type": "markdown",
      "metadata": {
        "id": "Y3rduQxEku9Y"
      },
      "source": [
        "# 4° Construindo a Máquina Preditiva\n",
        "![](https://www.genymotion.com/wp-content/uploads/2017/03/animation_genymotion_aws_facebook-1.gif)"
      ]
    },
    {
      "cell_type": "markdown",
      "metadata": {
        "id": "V4DWJ3hGhqEp"
      },
      "source": [
        "### 1° Versão da Máquina Preditiva: Criando um **baseline**\n",
        "\n",
        "Aqui nós vamos criar a primeira versão da Máquina Preditiva. Depois, vamos buscar formas de melhorar a assertividade do modelo. "
      ]
    },
    {
      "cell_type": "code",
      "metadata": {
        "id": "8XbYFyk8oCrH"
      },
      "source": [
        "# Importando a Biblioteca KNN\n",
        "from sklearn.neighbors import KNeighborsClassifier\n",
        "Maquina_Preditiva = KNeighborsClassifier(n_neighbors=30) #[1,10,30,50]\n",
        "\n"
      ],
      "execution_count": null,
      "outputs": []
    },
    {
      "cell_type": "code",
      "source": [
        "Maquina_Preditiva"
      ],
      "metadata": {
        "id": "skREjp7mzvUw"
      },
      "execution_count": null,
      "outputs": []
    },
    {
      "cell_type": "code",
      "metadata": {
        "id": "YFbVAkiOyMxG"
      },
      "source": [
        "#Treinando a Máquina preditiva com os dados de treino\n",
        "Maquina_Preditiva = Maquina_Preditiva.fit(X_train,y_train)\n",
        "\n"
      ],
      "execution_count": null,
      "outputs": []
    },
    {
      "cell_type": "code",
      "metadata": {
        "id": "BBGyF8-OyQMi"
      },
      "source": [
        "#Fazendo novas Previsões com os dados de teste\n",
        "y_pred = Maquina_Preditiva.predict(X_test)\n",
        "\n",
        "\n",
        "print(\"\\n---------------------------\\n\")\n",
        "print(\"Valores Reais com dados de teste :\\n\",y_test)\n",
        "\n",
        "print(\"\\n---------------------------\\n\")\n",
        "print(\"Valores Preditos com a Máquina Preditiva com dados de Teste :\\n\",y_pred)"
      ],
      "execution_count": null,
      "outputs": []
    },
    {
      "cell_type": "markdown",
      "metadata": {
        "id": "7zs6B8NF5asB"
      },
      "source": [
        "#5° Avaliando a Máquina Preditiva\n",
        "\n",
        "![](https://territorystudio.com/wp-content/uploads/2020/11/AWS-NFL-Season-Closer-Ad-02.gif)"
      ]
    },
    {
      "cell_type": "code",
      "metadata": {
        "id": "ZAwiJVWuoHEX"
      },
      "source": [
        "# Calculando a Acurácia\n",
        "from sklearn import metrics\n",
        "print(\"Acurácia da Máquina = \", metrics.accuracy_score(y_test, y_pred)*100)"
      ],
      "execution_count": null,
      "outputs": []
    },
    {
      "cell_type": "code",
      "metadata": {
        "id": "dIlExZQVjiTL"
      },
      "source": [
        "# Comparando Real e Predito com dados de Teste\n",
        "print(\"\\nReal vs Predito \\n------------------------------\\n\")\n",
        "error_df = pd.DataFrame({\"Real\" : y_test,\n",
        "                         \"Predito\" : y_pred})\n",
        "\n",
        "error_df.head(5)"
      ],
      "execution_count": null,
      "outputs": []
    },
    {
      "cell_type": "code",
      "metadata": {
        "id": "LVbeqzMaku9f"
      },
      "source": [
        "#Usando a confusion matrix  e o classification report para avaliar a acurácia e demais indicadores\n",
        "from sklearn.metrics import confusion_matrix, classification_report\n",
        "from sklearn import metrics\n",
        "\n",
        "print(\"Acurácia da Máquina = \", metrics.accuracy_score(y_test, y_pred)*100)\n",
        "cm = confusion_matrix(y_test,y_pred)\n",
        "cr = classification_report(y_test, y_pred)\n",
        "print(cm)\n",
        "print(cr)"
      ],
      "execution_count": null,
      "outputs": []
    },
    {
      "cell_type": "markdown",
      "metadata": {
        "id": "cUQ5JbQk56wl"
      },
      "source": [
        "### 2° Versão da Máquina Preditiva: Máquina Definitiva "
      ]
    },
    {
      "cell_type": "code",
      "metadata": {
        "id": "z9JPD4YM59KP"
      },
      "source": [
        "# Importando a Biblioteca do SVM\n",
        "from sklearn.svm import SVC\n",
        "Maquina_Preditiva = SVC(kernel='rbf',             # ['linear', 'rbf']\n",
        "                        random_state=7)\n",
        "\n",
        "\n"
      ],
      "execution_count": null,
      "outputs": []
    },
    {
      "cell_type": "code",
      "source": [
        "Maquina_Preditiva"
      ],
      "metadata": {
        "colab": {
          "base_uri": "https://localhost:8080/"
        },
        "id": "g6K6rWQv3Elg",
        "outputId": "4eb03524-f6af-41c1-9cef-bd54b3476806"
      },
      "execution_count": null,
      "outputs": [
        {
          "output_type": "execute_result",
          "data": {
            "text/plain": [
              "SVC(random_state=7)"
            ]
          },
          "metadata": {},
          "execution_count": 34
        }
      ]
    },
    {
      "cell_type": "code",
      "metadata": {
        "id": "uRL7gP752471",
        "colab": {
          "base_uri": "https://localhost:8080/"
        },
        "outputId": "2b7809b0-5c74-457f-ce6e-5d41860ac7b5"
      },
      "source": [
        "#Treinando a Máquina com o SVC\n",
        "Maquina_Preditiva.fit(X_train,y_train)\n",
        "\n"
      ],
      "execution_count": null,
      "outputs": [
        {
          "output_type": "execute_result",
          "data": {
            "text/plain": [
              "SVC(random_state=7)"
            ]
          },
          "metadata": {},
          "execution_count": 35
        }
      ]
    },
    {
      "cell_type": "code",
      "metadata": {
        "id": "lNEz5Vc527Ez",
        "colab": {
          "base_uri": "https://localhost:8080/"
        },
        "outputId": "f4e6a1a0-5ad6-4f89-8448-e39d1664fe41"
      },
      "source": [
        "#Fazendo novas previsões com os dados de teste\n",
        "y_pred = Maquina_Preditiva.predict(X_test)\n",
        "\n",
        "print(\"\\n---------------------------\\n\")\n",
        "print(\"Predicted Values for Test Set :\\n\",y_pred)\n",
        "print(\"\\n---------------------------\\n\")\n",
        "print(\"Actual Values for Test Set :\\n\",y_test)"
      ],
      "execution_count": null,
      "outputs": [
        {
          "output_type": "stream",
          "name": "stdout",
          "text": [
            "\n",
            "---------------------------\n",
            "\n",
            "Predicted Values for Test Set :\n",
            " ['Risco_Baixo' 'Risco_Medio' 'Risco_Alto' 'Risco_Medio' 'Risco_Medio'\n",
            " 'Risco_Alto' 'Risco_Medio' 'Risco_Medio' 'Risco_Alto' 'Risco_Medio'\n",
            " 'Risco_Baixo' 'Risco_Medio' 'Risco_Alto' 'Risco_Baixo' 'Risco_Alto'\n",
            " 'Risco_Baixo' 'Risco_Baixo' 'Risco_Baixo' 'Risco_Alto' 'Risco_Alto'\n",
            " 'Risco_Medio' 'Risco_Baixo' 'Risco_Medio' 'Risco_Medio' 'Risco_Baixo'\n",
            " 'Risco_Baixo' 'Risco_Medio' 'Risco_Medio' 'Risco_Baixo' 'Risco_Baixo']\n",
            "\n",
            "---------------------------\n",
            "\n",
            "Actual Values for Test Set :\n",
            " ['Risco_Baixo' 'Risco_Medio' 'Risco_Alto' 'Risco_Medio' 'Risco_Baixo'\n",
            " 'Risco_Alto' 'Risco_Medio' 'Risco_Medio' 'Risco_Alto' 'Risco_Medio'\n",
            " 'Risco_Medio' 'Risco_Medio' 'Risco_Alto' 'Risco_Baixo' 'Risco_Alto'\n",
            " 'Risco_Medio' 'Risco_Baixo' 'Risco_Baixo' 'Risco_Alto' 'Risco_Alto'\n",
            " 'Risco_Medio' 'Risco_Baixo' 'Risco_Medio' 'Risco_Baixo' 'Risco_Baixo'\n",
            " 'Risco_Baixo' 'Risco_Medio' 'Risco_Medio' 'Risco_Baixo' 'Risco_Baixo']\n"
          ]
        }
      ]
    },
    {
      "cell_type": "code",
      "metadata": {
        "id": "i55vwLwQQh2f",
        "colab": {
          "base_uri": "https://localhost:8080/"
        },
        "outputId": "90c2dbaf-93f2-4013-ff2a-b05c259002ac"
      },
      "source": [
        "#Imprimindo os hyperparâmetros utilizados na criação da Maquina Preditiva Definitiva\n",
        "Maquina_Preditiva"
      ],
      "execution_count": null,
      "outputs": [
        {
          "output_type": "execute_result",
          "data": {
            "text/plain": [
              "SVC(random_state=7)"
            ]
          },
          "metadata": {},
          "execution_count": 38
        }
      ]
    },
    {
      "cell_type": "code",
      "metadata": {
        "id": "ibAFbOsE59KT",
        "colab": {
          "base_uri": "https://localhost:8080/",
          "height": 293
        },
        "outputId": "b1da43a5-12e9-4831-ec99-38d35fb7653a"
      },
      "source": [
        "# Calculando a Acurácia da Máquina Preditiva\n",
        "from sklearn import metrics\n",
        "print(\"Prediction Accuracy = \", metrics.accuracy_score(y_test, y_pred))\n",
        "\n",
        "# Comparando valores Reais com Preditos pela Máquina\n",
        "print(\"\\nActual vs Predicted  \\n------------------------------\\n\")\n",
        "error_df = pd.DataFrame({\"Actual\" : y_test,\n",
        "                         \"Predicted\" : y_pred})\n",
        "\n",
        "error_df.head(5)"
      ],
      "execution_count": null,
      "outputs": [
        {
          "output_type": "stream",
          "name": "stdout",
          "text": [
            "Prediction Accuracy =  0.8666666666666667\n",
            "\n",
            "Actual vs Predicted  \n",
            "------------------------------\n",
            "\n"
          ]
        },
        {
          "output_type": "execute_result",
          "data": {
            "text/plain": [
              "        Actual    Predicted\n",
              "0  Risco_Baixo  Risco_Baixo\n",
              "1  Risco_Medio  Risco_Medio\n",
              "2   Risco_Alto   Risco_Alto\n",
              "3  Risco_Medio  Risco_Medio\n",
              "4  Risco_Baixo  Risco_Medio"
            ],
            "text/html": [
              "\n",
              "  <div id=\"df-a92318f5-5a2e-4262-af8f-49d3ea0237c0\">\n",
              "    <div class=\"colab-df-container\">\n",
              "      <div>\n",
              "<style scoped>\n",
              "    .dataframe tbody tr th:only-of-type {\n",
              "        vertical-align: middle;\n",
              "    }\n",
              "\n",
              "    .dataframe tbody tr th {\n",
              "        vertical-align: top;\n",
              "    }\n",
              "\n",
              "    .dataframe thead th {\n",
              "        text-align: right;\n",
              "    }\n",
              "</style>\n",
              "<table border=\"1\" class=\"dataframe\">\n",
              "  <thead>\n",
              "    <tr style=\"text-align: right;\">\n",
              "      <th></th>\n",
              "      <th>Actual</th>\n",
              "      <th>Predicted</th>\n",
              "    </tr>\n",
              "  </thead>\n",
              "  <tbody>\n",
              "    <tr>\n",
              "      <th>0</th>\n",
              "      <td>Risco_Baixo</td>\n",
              "      <td>Risco_Baixo</td>\n",
              "    </tr>\n",
              "    <tr>\n",
              "      <th>1</th>\n",
              "      <td>Risco_Medio</td>\n",
              "      <td>Risco_Medio</td>\n",
              "    </tr>\n",
              "    <tr>\n",
              "      <th>2</th>\n",
              "      <td>Risco_Alto</td>\n",
              "      <td>Risco_Alto</td>\n",
              "    </tr>\n",
              "    <tr>\n",
              "      <th>3</th>\n",
              "      <td>Risco_Medio</td>\n",
              "      <td>Risco_Medio</td>\n",
              "    </tr>\n",
              "    <tr>\n",
              "      <th>4</th>\n",
              "      <td>Risco_Baixo</td>\n",
              "      <td>Risco_Medio</td>\n",
              "    </tr>\n",
              "  </tbody>\n",
              "</table>\n",
              "</div>\n",
              "      <button class=\"colab-df-convert\" onclick=\"convertToInteractive('df-a92318f5-5a2e-4262-af8f-49d3ea0237c0')\"\n",
              "              title=\"Convert this dataframe to an interactive table.\"\n",
              "              style=\"display:none;\">\n",
              "        \n",
              "  <svg xmlns=\"http://www.w3.org/2000/svg\" height=\"24px\"viewBox=\"0 0 24 24\"\n",
              "       width=\"24px\">\n",
              "    <path d=\"M0 0h24v24H0V0z\" fill=\"none\"/>\n",
              "    <path d=\"M18.56 5.44l.94 2.06.94-2.06 2.06-.94-2.06-.94-.94-2.06-.94 2.06-2.06.94zm-11 1L8.5 8.5l.94-2.06 2.06-.94-2.06-.94L8.5 2.5l-.94 2.06-2.06.94zm10 10l.94 2.06.94-2.06 2.06-.94-2.06-.94-.94-2.06-.94 2.06-2.06.94z\"/><path d=\"M17.41 7.96l-1.37-1.37c-.4-.4-.92-.59-1.43-.59-.52 0-1.04.2-1.43.59L10.3 9.45l-7.72 7.72c-.78.78-.78 2.05 0 2.83L4 21.41c.39.39.9.59 1.41.59.51 0 1.02-.2 1.41-.59l7.78-7.78 2.81-2.81c.8-.78.8-2.07 0-2.86zM5.41 20L4 18.59l7.72-7.72 1.47 1.35L5.41 20z\"/>\n",
              "  </svg>\n",
              "      </button>\n",
              "      \n",
              "  <style>\n",
              "    .colab-df-container {\n",
              "      display:flex;\n",
              "      flex-wrap:wrap;\n",
              "      gap: 12px;\n",
              "    }\n",
              "\n",
              "    .colab-df-convert {\n",
              "      background-color: #E8F0FE;\n",
              "      border: none;\n",
              "      border-radius: 50%;\n",
              "      cursor: pointer;\n",
              "      display: none;\n",
              "      fill: #1967D2;\n",
              "      height: 32px;\n",
              "      padding: 0 0 0 0;\n",
              "      width: 32px;\n",
              "    }\n",
              "\n",
              "    .colab-df-convert:hover {\n",
              "      background-color: #E2EBFA;\n",
              "      box-shadow: 0px 1px 2px rgba(60, 64, 67, 0.3), 0px 1px 3px 1px rgba(60, 64, 67, 0.15);\n",
              "      fill: #174EA6;\n",
              "    }\n",
              "\n",
              "    [theme=dark] .colab-df-convert {\n",
              "      background-color: #3B4455;\n",
              "      fill: #D2E3FC;\n",
              "    }\n",
              "\n",
              "    [theme=dark] .colab-df-convert:hover {\n",
              "      background-color: #434B5C;\n",
              "      box-shadow: 0px 1px 3px 1px rgba(0, 0, 0, 0.15);\n",
              "      filter: drop-shadow(0px 1px 2px rgba(0, 0, 0, 0.3));\n",
              "      fill: #FFFFFF;\n",
              "    }\n",
              "  </style>\n",
              "\n",
              "      <script>\n",
              "        const buttonEl =\n",
              "          document.querySelector('#df-a92318f5-5a2e-4262-af8f-49d3ea0237c0 button.colab-df-convert');\n",
              "        buttonEl.style.display =\n",
              "          google.colab.kernel.accessAllowed ? 'block' : 'none';\n",
              "\n",
              "        async function convertToInteractive(key) {\n",
              "          const element = document.querySelector('#df-a92318f5-5a2e-4262-af8f-49d3ea0237c0');\n",
              "          const dataTable =\n",
              "            await google.colab.kernel.invokeFunction('convertToInteractive',\n",
              "                                                     [key], {});\n",
              "          if (!dataTable) return;\n",
              "\n",
              "          const docLinkHtml = 'Like what you see? Visit the ' +\n",
              "            '<a target=\"_blank\" href=https://colab.research.google.com/notebooks/data_table.ipynb>data table notebook</a>'\n",
              "            + ' to learn more about interactive tables.';\n",
              "          element.innerHTML = '';\n",
              "          dataTable['output_type'] = 'display_data';\n",
              "          await google.colab.output.renderOutput(dataTable, element);\n",
              "          const docLink = document.createElement('div');\n",
              "          docLink.innerHTML = docLinkHtml;\n",
              "          element.appendChild(docLink);\n",
              "        }\n",
              "      </script>\n",
              "    </div>\n",
              "  </div>\n",
              "  "
            ]
          },
          "metadata": {},
          "execution_count": 39
        }
      ]
    },
    {
      "cell_type": "code",
      "metadata": {
        "id": "MnVF8dG7qvlq"
      },
      "source": [
        "\n",
        "#Usando a confusion matrix e o classification report para avaliar a Máquina\n",
        "from sklearn.metrics import confusion_matrix, classification_report\n",
        "\n",
        "cm = confusion_matrix(y_test,y_pred)\n",
        "cr = classification_report(y_test, y_pred)"
      ],
      "execution_count": null,
      "outputs": []
    },
    {
      "cell_type": "code",
      "metadata": {
        "id": "e3b7ZZOb6KkW",
        "colab": {
          "base_uri": "https://localhost:8080/"
        },
        "outputId": "944ee306-8334-45c4-eb25-803d2ae6996b"
      },
      "source": [
        "# Imprimindo a Confusion Matrix e o Classification Report\n",
        "print(cm)\n",
        "print(cr)"
      ],
      "execution_count": null,
      "outputs": [
        {
          "output_type": "stream",
          "name": "stdout",
          "text": [
            "[[ 7  0  0]\n",
            " [ 0  9  2]\n",
            " [ 0  2 10]]\n",
            "              precision    recall  f1-score   support\n",
            "\n",
            "  Risco_Alto       1.00      1.00      1.00         7\n",
            " Risco_Baixo       0.82      0.82      0.82        11\n",
            " Risco_Medio       0.83      0.83      0.83        12\n",
            "\n",
            "    accuracy                           0.87        30\n",
            "   macro avg       0.88      0.88      0.88        30\n",
            "weighted avg       0.87      0.87      0.87        30\n",
            "\n"
          ]
        }
      ]
    },
    {
      "cell_type": "markdown",
      "metadata": {
        "id": "PpHbZsBZ2aDB"
      },
      "source": [
        "# <font color='grey'> **Aula 3 - Sistema de Avaliação de Investimento em Startups para Venture Capital** </font>"
      ]
    },
    {
      "cell_type": "markdown",
      "metadata": {
        "id": "LI4TUsUJ0u66"
      },
      "source": [
        "# <font color='black'>6° Implementando a Maquina Preditiva em ambiente WEB</font>\n"
      ]
    },
    {
      "cell_type": "markdown",
      "metadata": {
        "id": "l8D_ZDsg9vVA"
      },
      "source": [
        "### **Passo a Passo** Implementação do Sistema Avaliação de Investimento em Startups para Venture Capital:"
      ]
    },
    {
      "cell_type": "markdown",
      "metadata": {
        "id": "L6smO8FC4oJk"
      },
      "source": [
        "**1°** Instalar o Anaconda\n",
        "\n",
        "https://www.anaconda.com/products/individual"
      ]
    },
    {
      "cell_type": "markdown",
      "source": [
        "#### Obs: **Marcar** a Caixa de Variáveis \"PATH\" (ambiente)\n",
        "![](https://cienciadosdados.com/images/2022/03/anaconda.png)"
      ],
      "metadata": {
        "id": "MR70-v28IT5b"
      }
    },
    {
      "cell_type": "markdown",
      "metadata": {
        "id": "krpsXQ4v99Nt"
      },
      "source": [
        "**2°** Realizar o download da ferramenta \"Visual Studio Code\" no link abaixo:\n",
        "\n",
        "https://code.visualstudio.com/"
      ]
    },
    {
      "cell_type": "markdown",
      "metadata": {
        "id": "bzM_pbgf-ROm"
      },
      "source": [
        "**3°** Instalar a ferramenta: Clicar em \"next\" e \"finish\" (simples assim...)"
      ]
    },
    {
      "cell_type": "markdown",
      "metadata": {
        "id": "UtiXb1Yz-bkD"
      },
      "source": [
        "**4°** Criar um diretório \"app\" no seu Drive \"C\"\n",
        "\n",
        "Ex: **C:\\app**"
      ]
    },
    {
      "cell_type": "markdown",
      "metadata": {
        "id": "5ARouQgp-9Ph"
      },
      "source": [
        "**5°** Fazer o Download da pasta \"aula3\" disponibilizada na página da Jornada"
      ]
    },
    {
      "cell_type": "markdown",
      "metadata": {
        "id": "4wAWIcsW_Lej"
      },
      "source": [
        "**6°** Salvar essa pasta dentro do diretório app. \n",
        "\n",
        "Ex: **C:\\app\\startups** \n",
        "\n",
        "\n",
        "\n",
        "**Obs:** dentro da pasta maratona temos 3 arquivos:\n",
        "\n",
        "1° **venture_capital**               - Nossa fonte de dados\n",
        "\n",
        "2° **app-startup.py**                       - Nosso Aplicativo web\n",
        "\n",
        "3° **Script_Notebook**_Venture_Capital.ipynb   - Nosso Script de Criação da Máquina Preditiva"
      ]
    },
    {
      "cell_type": "markdown",
      "metadata": {
        "id": "KDvZd3apAP3y"
      },
      "source": [
        "**7°** Abrir o VS Code e clicar no menu \"File\", depois \"Open Folder\" e vai navegar até o diretório **\"C:\\app\\startups\"**"
      ]
    },
    {
      "cell_type": "markdown",
      "metadata": {
        "id": "b-__AxU9AqHc"
      },
      "source": [
        "**8°** Vai no menu \"terminal\", depois \"New Terminal\". Perceba que vai abrir, lá embaixo, um terminal de comando, tipo o \"CMD\" (tela preta) do windows."
      ]
    },
    {
      "cell_type": "markdown",
      "metadata": {
        "id": "zT8U4OWWBJ7I"
      },
      "source": [
        "**9°** executar os seguinte comandos:\n",
        "\n",
        "a) pip install plotly     +  tecla enter\n",
        "\n",
        "b) pip install streamlit  +  tecla enter\n"
      ]
    },
    {
      "cell_type": "markdown",
      "metadata": {
        "id": "6YRxtNSgBteM"
      },
      "source": [
        "**10°** Executar o comando de abertura (no terminal do VS Code) do nosso sistema:\n",
        "\n",
        "   **streamlit run app_risco.py**\n",
        "\n",
        "obs: Nosso sistema vai abrir na WEB. Ver no seu navegador web."
      ]
    },
    {
      "cell_type": "markdown",
      "metadata": {
        "id": "6Mp2HsHhIj-c"
      },
      "source": [
        "# <font color='grey'> **Aula 4 - O GPS para Se tornar um Cientista de Dados na Prática e Ganhar Salários Iniciais Acima de R$ 6.000,00** </font>"
      ]
    },
    {
      "cell_type": "markdown",
      "metadata": {
        "id": "XTRc7NjBKG65"
      },
      "source": [
        "# Fim? É só o começo...."
      ]
    },
    {
      "cell_type": "markdown",
      "metadata": {
        "id": "_fHqFSvWe94c"
      },
      "source": [
        "# Simbóra!"
      ]
    }
  ]
}